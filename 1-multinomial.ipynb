{
 "cells": [
  {
   "cell_type": "markdown",
   "id": "accessible-bubble",
   "metadata": {},
   "source": [
    "# LAB 6: Text classification with linear models\n",
    "\n",
    "Objectives:\n",
    "\n",
    "* Train and evaluate linear text classifiers using SGDClassifier\n",
    "* Experiment with different feature extraction and training methods\n",
    "* Log and evaluate experimental results using [mlflow](https://mlflow.org)"
   ]
  },
  {
   "cell_type": "code",
   "execution_count": 1,
   "id": "taken-unemployment",
   "metadata": {},
   "outputs": [],
   "source": [
    "import numpy as np\n",
    "import pandas as pd\n",
    "from cytoolz import *\n",
    "from tqdm.auto import tqdm\n",
    "\n",
    "tqdm.pandas()"
   ]
  },
  {
   "cell_type": "markdown",
   "id": "instant-cable",
   "metadata": {},
   "source": [
    "\n",
    "### Load and preprocess data"
   ]
  },
  {
   "cell_type": "code",
   "execution_count": 2,
   "id": "metric-johnston",
   "metadata": {},
   "outputs": [],
   "source": [
    "train = pd.read_parquet(\n",
    "    \"s3://ling583/rcv1-topics-train.parquet\", storage_options={\"anon\": True}\n",
    ")\n",
    "test = pd.read_parquet(\n",
    "    \"s3://ling583/rcv1-topics-test.parquet\", storage_options={\"anon\": True}\n",
    ")"
   ]
  },
  {
   "cell_type": "code",
   "execution_count": 3,
   "id": "frank-directory",
   "metadata": {},
   "outputs": [
    {
     "data": {
      "text/html": [
       "<div>\n",
       "<style scoped>\n",
       "    .dataframe tbody tr th:only-of-type {\n",
       "        vertical-align: middle;\n",
       "    }\n",
       "\n",
       "    .dataframe tbody tr th {\n",
       "        vertical-align: top;\n",
       "    }\n",
       "\n",
       "    .dataframe thead th {\n",
       "        text-align: right;\n",
       "    }\n",
       "</style>\n",
       "<table border=\"1\" class=\"dataframe\">\n",
       "  <thead>\n",
       "    <tr style=\"text-align: right;\">\n",
       "      <th></th>\n",
       "      <th>text</th>\n",
       "      <th>topics</th>\n",
       "    </tr>\n",
       "  </thead>\n",
       "  <tbody>\n",
       "    <tr>\n",
       "      <th>0</th>\n",
       "      <td>NZ bonds close well bid ahead of key U.S. data...</td>\n",
       "      <td>MCAT</td>\n",
       "    </tr>\n",
       "    <tr>\n",
       "      <th>1</th>\n",
       "      <td>Asia Product Swaps - Jet/gas oil regrade at di...</td>\n",
       "      <td>MCAT</td>\n",
       "    </tr>\n",
       "    <tr>\n",
       "      <th>2</th>\n",
       "      <td>U.S. public schools get a C report card in qua...</td>\n",
       "      <td>GCAT</td>\n",
       "    </tr>\n",
       "    <tr>\n",
       "      <th>3</th>\n",
       "      <td>Thunder Bay vessel clearances - May 12. Daily ...</td>\n",
       "      <td>MCAT</td>\n",
       "    </tr>\n",
       "    <tr>\n",
       "      <th>4</th>\n",
       "      <td>Amoco gains shares in Ula,Gyda N.Sea fields. A...</td>\n",
       "      <td>CCAT</td>\n",
       "    </tr>\n",
       "  </tbody>\n",
       "</table>\n",
       "</div>"
      ],
      "text/plain": [
       "                                                text topics\n",
       "0  NZ bonds close well bid ahead of key U.S. data...   MCAT\n",
       "1  Asia Product Swaps - Jet/gas oil regrade at di...   MCAT\n",
       "2  U.S. public schools get a C report card in qua...   GCAT\n",
       "3  Thunder Bay vessel clearances - May 12. Daily ...   MCAT\n",
       "4  Amoco gains shares in Ula,Gyda N.Sea fields. A...   CCAT"
      ]
     },
     "execution_count": 3,
     "metadata": {},
     "output_type": "execute_result"
    }
   ],
   "source": [
    "train.head()"
   ]
  },
  {
   "cell_type": "markdown",
   "id": "grave-journal",
   "metadata": {},
   "source": [
    "CCAT : CORPORATE/INDUSTRIAL  \n",
    "ECAT : ECONOMICS  \n",
    "GCAT : GOVERNMENT/SOCIAL  \n",
    "MCAT : MARKETS"
   ]
  },
  {
   "cell_type": "code",
   "execution_count": 4,
   "id": "convinced-louisville",
   "metadata": {},
   "outputs": [
    {
     "data": {
      "text/plain": [
       "CCAT    5896\n",
       "MCAT    3281\n",
       "GCAT    3225\n",
       "ECAT    1073\n",
       "Name: topics, dtype: int64"
      ]
     },
     "execution_count": 4,
     "metadata": {},
     "output_type": "execute_result"
    }
   ],
   "source": [
    "train[\"topics\"].value_counts()"
   ]
  },
  {
   "cell_type": "code",
   "execution_count": 5,
   "id": "following-professional",
   "metadata": {},
   "outputs": [],
   "source": [
    "import spacy\n",
    "\n",
    "nlp = spacy.load(\n",
    "    \"en_core_web_sm\",\n",
    "    exclude=[\"tagger\", \"parser\", \"ner\", \"lemmatizer\", \"attribute_ruler\"],\n",
    ")\n",
    "\n",
    "\n",
    "def tokenize(text):\n",
    "    doc = nlp.tokenizer(text)\n",
    "    return [t.norm_ for t in doc if t.is_alpha]"
   ]
  },
  {
   "cell_type": "code",
   "execution_count": 6,
   "id": "sexual-camera",
   "metadata": {},
   "outputs": [],
   "source": [
    "import multiprocessing as mp"
   ]
  },
  {
   "cell_type": "code",
   "execution_count": 7,
   "id": "involved-union",
   "metadata": {},
   "outputs": [
    {
     "data": {
      "application/vnd.jupyter.widget-view+json": {
       "model_id": "8c4006ea8b53486b8a8b740c1b52377a",
       "version_major": 2,
       "version_minor": 0
      },
      "text/plain": [
       "  0%|          | 0/13475 [00:00<?, ?it/s]"
      ]
     },
     "metadata": {},
     "output_type": "display_data"
    },
    {
     "data": {
      "application/vnd.jupyter.widget-view+json": {
       "model_id": "5e816f6830804c62b5afb2603c27b217",
       "version_major": 2,
       "version_minor": 0
      },
      "text/plain": [
       "  0%|          | 0/3369 [00:00<?, ?it/s]"
      ]
     },
     "metadata": {},
     "output_type": "display_data"
    }
   ],
   "source": [
    "with mp.Pool() as p:\n",
    "    train[\"tokens\"] = pd.Series(p.imap(tokenize, tqdm(train[\"text\"]), chunksize=100))\n",
    "    test[\"tokens\"] = pd.Series(p.imap(tokenize, tqdm(test[\"text\"]), chunksize=100))"
   ]
  },
  {
   "cell_type": "code",
   "execution_count": 8,
   "id": "scientific-protection",
   "metadata": {},
   "outputs": [
    {
     "data": {
      "text/html": [
       "<div>\n",
       "<style scoped>\n",
       "    .dataframe tbody tr th:only-of-type {\n",
       "        vertical-align: middle;\n",
       "    }\n",
       "\n",
       "    .dataframe tbody tr th {\n",
       "        vertical-align: top;\n",
       "    }\n",
       "\n",
       "    .dataframe thead th {\n",
       "        text-align: right;\n",
       "    }\n",
       "</style>\n",
       "<table border=\"1\" class=\"dataframe\">\n",
       "  <thead>\n",
       "    <tr style=\"text-align: right;\">\n",
       "      <th></th>\n",
       "      <th>text</th>\n",
       "      <th>topics</th>\n",
       "      <th>tokens</th>\n",
       "    </tr>\n",
       "  </thead>\n",
       "  <tbody>\n",
       "    <tr>\n",
       "      <th>0</th>\n",
       "      <td>NZ bonds close well bid ahead of key U.S. data...</td>\n",
       "      <td>MCAT</td>\n",
       "      <td>[nz, bonds, close, well, bid, ahead, of, key, ...</td>\n",
       "    </tr>\n",
       "    <tr>\n",
       "      <th>1</th>\n",
       "      <td>Asia Product Swaps - Jet/gas oil regrade at di...</td>\n",
       "      <td>MCAT</td>\n",
       "      <td>[asia, product, swaps, jet, gas, oil, regrade,...</td>\n",
       "    </tr>\n",
       "    <tr>\n",
       "      <th>2</th>\n",
       "      <td>U.S. public schools get a C report card in qua...</td>\n",
       "      <td>GCAT</td>\n",
       "      <td>[public, schools, get, a, c, report, card, in,...</td>\n",
       "    </tr>\n",
       "    <tr>\n",
       "      <th>3</th>\n",
       "      <td>Thunder Bay vessel clearances - May 12. Daily ...</td>\n",
       "      <td>MCAT</td>\n",
       "      <td>[thunder, bay, vessel, clearances, may, daily,...</td>\n",
       "    </tr>\n",
       "    <tr>\n",
       "      <th>4</th>\n",
       "      <td>Amoco gains shares in Ula,Gyda N.Sea fields. A...</td>\n",
       "      <td>CCAT</td>\n",
       "      <td>[amoco, gains, shares, in, ula, gyda, fields, ...</td>\n",
       "    </tr>\n",
       "  </tbody>\n",
       "</table>\n",
       "</div>"
      ],
      "text/plain": [
       "                                                text topics  \\\n",
       "0  NZ bonds close well bid ahead of key U.S. data...   MCAT   \n",
       "1  Asia Product Swaps - Jet/gas oil regrade at di...   MCAT   \n",
       "2  U.S. public schools get a C report card in qua...   GCAT   \n",
       "3  Thunder Bay vessel clearances - May 12. Daily ...   MCAT   \n",
       "4  Amoco gains shares in Ula,Gyda N.Sea fields. A...   CCAT   \n",
       "\n",
       "                                              tokens  \n",
       "0  [nz, bonds, close, well, bid, ahead, of, key, ...  \n",
       "1  [asia, product, swaps, jet, gas, oil, regrade,...  \n",
       "2  [public, schools, get, a, c, report, card, in,...  \n",
       "3  [thunder, bay, vessel, clearances, may, daily,...  \n",
       "4  [amoco, gains, shares, in, ula, gyda, fields, ...  "
      ]
     },
     "execution_count": 8,
     "metadata": {},
     "output_type": "execute_result"
    }
   ],
   "source": [
    "train.head()"
   ]
  },
  {
   "cell_type": "markdown",
   "id": "diverse-sweet",
   "metadata": {},
   "source": [
    "---"
   ]
  },
  {
   "cell_type": "markdown",
   "id": "isolated-henry",
   "metadata": {},
   "source": [
    "### Multinomial Naive Bayes"
   ]
  },
  {
   "cell_type": "code",
   "execution_count": 9,
   "id": "fifteen-milton",
   "metadata": {},
   "outputs": [],
   "source": [
    "from sklearn.feature_extraction.text import CountVectorizer\n",
    "from sklearn.metrics import classification_report\n",
    "from sklearn.naive_bayes import MultinomialNB\n",
    "from sklearn.pipeline import make_pipeline"
   ]
  },
  {
   "cell_type": "code",
   "execution_count": 10,
   "id": "electoral-brother",
   "metadata": {},
   "outputs": [
    {
     "name": "stdout",
     "output_type": "stream",
     "text": [
      "              precision    recall  f1-score   support\n",
      "\n",
      "        CCAT       0.96      0.94      0.95      1475\n",
      "        ECAT       0.92      0.65      0.76       268\n",
      "        GCAT       0.93      0.98      0.95       806\n",
      "        MCAT       0.90      0.97      0.94       820\n",
      "\n",
      "    accuracy                           0.93      3369\n",
      "   macro avg       0.93      0.88      0.90      3369\n",
      "weighted avg       0.94      0.93      0.93      3369\n",
      "\n"
     ]
    }
   ],
   "source": [
    "mnb = make_pipeline(CountVectorizer(analyzer=identity), MultinomialNB())\n",
    "mnb.fit(train[\"tokens\"], train[\"topics\"])\n",
    "predicted = mnb.predict(test[\"tokens\"])\n",
    "print(classification_report(test[\"topics\"], predicted))"
   ]
  },
  {
   "cell_type": "code",
   "execution_count": 11,
   "id": "loose-witch",
   "metadata": {},
   "outputs": [],
   "source": [
    "import logger\n",
    "import mlflow\n",
    "from logger import log_search, log_test"
   ]
  },
  {
   "cell_type": "code",
   "execution_count": 12,
   "id": "protective-charm",
   "metadata": {},
   "outputs": [
    {
     "name": "stdout",
     "output_type": "stream",
     "text": [
      "INFO: 'lab-6' does not exist. Creating a new experiment\n"
     ]
    }
   ],
   "source": [
    "mlflow.set_experiment(\"lab-6\")\n",
    "log_test(mnb, test[\"topics\"], predicted)"
   ]
  },
  {
   "cell_type": "markdown",
   "id": "continuous-twelve",
   "metadata": {},
   "source": [
    "---"
   ]
  },
  {
   "cell_type": "markdown",
   "id": "thousand-camera",
   "metadata": {},
   "source": [
    "### Hyperparameters"
   ]
  },
  {
   "cell_type": "code",
   "execution_count": 13,
   "id": "recent-billy",
   "metadata": {},
   "outputs": [
    {
     "data": {
      "text/html": [
       "<table style=\"border: 2px solid white;\">\n",
       "<tr>\n",
       "<td style=\"vertical-align: top; border: 0px solid white\">\n",
       "<h3 style=\"text-align: left;\">Client</h3>\n",
       "<ul style=\"text-align: left; list-style: none; margin: 0; padding: 0;\">\n",
       "  <li><b>Scheduler: </b>tcp://127.0.0.1:36825</li>\n",
       "  <li><b>Dashboard: </b><a href='http://127.0.0.1:8787/status' target='_blank'>http://127.0.0.1:8787/status</a></li>\n",
       "</ul>\n",
       "</td>\n",
       "<td style=\"vertical-align: top; border: 0px solid white\">\n",
       "<h3 style=\"text-align: left;\">Cluster</h3>\n",
       "<ul style=\"text-align: left; list-style:none; margin: 0; padding: 0;\">\n",
       "  <li><b>Workers: </b>4</li>\n",
       "  <li><b>Cores: </b>4</li>\n",
       "  <li><b>Memory: </b>16.62 GB</li>\n",
       "</ul>\n",
       "</td>\n",
       "</tr>\n",
       "</table>"
      ],
      "text/plain": [
       "<Client: 'tcp://127.0.0.1:36825' processes=4 threads=4, memory=16.62 GB>"
      ]
     },
     "execution_count": 13,
     "metadata": {},
     "output_type": "execute_result"
    }
   ],
   "source": [
    "from dask.distributed import Client\n",
    "\n",
    "client = Client(\"tcp://127.0.0.1:36825\")\n",
    "client"
   ]
  },
  {
   "cell_type": "code",
   "execution_count": 14,
   "id": "finite-duncan",
   "metadata": {},
   "outputs": [],
   "source": [
    "from dask_ml.model_selection import RandomizedSearchCV\n",
    "from scipy.stats.distributions import loguniform, randint, uniform"
   ]
  },
  {
   "cell_type": "code",
   "execution_count": 15,
   "id": "documentary-terrorism",
   "metadata": {},
   "outputs": [],
   "source": [
    "from warnings import simplefilter\n",
    "\n",
    "simplefilter(action=\"ignore\", category=FutureWarning)"
   ]
  },
  {
   "cell_type": "code",
   "execution_count": 16,
   "id": "endless-variation",
   "metadata": {},
   "outputs": [
    {
     "name": "stdout",
     "output_type": "stream",
     "text": [
      "INFO: 'lab-6/MultinomialNB' does not exist. Creating a new experiment\n"
     ]
    }
   ],
   "source": [
    "mlflow.set_experiment(\"lab-6/MultinomialNB\")"
   ]
  },
  {
   "cell_type": "code",
   "execution_count": 17,
   "id": "consecutive-development",
   "metadata": {},
   "outputs": [
    {
     "name": "stdout",
     "output_type": "stream",
     "text": [
      "CPU times: user 6.29 s, sys: 376 ms, total: 6.67 s\n",
      "Wall time: 50.3 s\n"
     ]
    }
   ],
   "source": [
    "%%time\n",
    "\n",
    "search = RandomizedSearchCV(\n",
    "    mnb,\n",
    "    {\n",
    "        \"countvectorizer__min_df\": randint(1, 10),\n",
    "        \"countvectorizer__max_df\": uniform(0.5, 0.5),\n",
    "        \"multinomialnb__alpha\": loguniform(1e-8, 100.0),\n",
    "    },\n",
    "    n_iter=25,\n",
    "    scoring=\"f1_macro\",\n",
    ")\n",
    "search.fit(train[\"tokens\"], train[\"topics\"])\n",
    "log_search(search)"
   ]
  },
  {
   "cell_type": "code",
   "execution_count": 18,
   "id": "spoken-photograph",
   "metadata": {},
   "outputs": [
    {
     "name": "stdout",
     "output_type": "stream",
     "text": [
      "CPU times: user 5.74 s, sys: 334 ms, total: 6.07 s\n",
      "Wall time: 49.4 s\n"
     ]
    }
   ],
   "source": [
    "%%time\n",
    "\n",
    "search = RandomizedSearchCV(\n",
    "    mnb,\n",
    "    {\n",
    "        \"countvectorizer__min_df\": randint(1, 10),\n",
    "        \"countvectorizer__max_df\": uniform(0.5, 0.5),\n",
    "        \"multinomialnb__alpha\": loguniform(1e-3, 1.0),\n",
    "    },\n",
    "    n_iter=25,\n",
    "    scoring=\"f1_macro\",\n",
    ")\n",
    "search.fit(train[\"tokens\"], train[\"topics\"])\n",
    "log_search(search)"
   ]
  },
  {
   "cell_type": "code",
   "execution_count": 19,
   "id": "wired-confidentiality",
   "metadata": {},
   "outputs": [
    {
     "name": "stdout",
     "output_type": "stream",
     "text": [
      "CPU times: user 5.85 s, sys: 343 ms, total: 6.19 s\n",
      "Wall time: 48.5 s\n"
     ]
    }
   ],
   "source": [
    "%%time\n",
    "\n",
    "search = RandomizedSearchCV(\n",
    "    mnb,\n",
    "    {\n",
    "        \"countvectorizer__min_df\": randint(1, 10),\n",
    "        \"countvectorizer__max_df\": uniform(0.5, 0.5),\n",
    "        \"multinomialnb__alpha\": [0.1],\n",
    "    },\n",
    "    n_iter=25,\n",
    "    scoring=\"f1_macro\",\n",
    ")\n",
    "search.fit(train[\"tokens\"], train[\"topics\"])\n",
    "log_search(search)"
   ]
  },
  {
   "cell_type": "markdown",
   "id": "human-graphic",
   "metadata": {},
   "source": [
    "----\n",
    "\n",
    "### Optimized model"
   ]
  },
  {
   "cell_type": "code",
   "execution_count": 20,
   "id": "increased-fourth",
   "metadata": {},
   "outputs": [
    {
     "name": "stdout",
     "output_type": "stream",
     "text": [
      "              precision    recall  f1-score   support\n",
      "\n",
      "        CCAT       0.97      0.95      0.96      1475\n",
      "        ECAT       0.92      0.76      0.83       268\n",
      "        GCAT       0.92      0.98      0.95       806\n",
      "        MCAT       0.93      0.97      0.95       820\n",
      "\n",
      "    accuracy                           0.94      3369\n",
      "   macro avg       0.93      0.91      0.92      3369\n",
      "weighted avg       0.94      0.94      0.94      3369\n",
      "\n"
     ]
    }
   ],
   "source": [
    "mnb = make_pipeline(\n",
    "    CountVectorizer(analyzer=identity, min_df=2, max_df=0.7), MultinomialNB(alpha=0.1)\n",
    ")\n",
    "mnb.fit(train[\"tokens\"], train[\"topics\"])\n",
    "predicted = mnb.predict(test[\"tokens\"])\n",
    "print(classification_report(test[\"topics\"], predicted))"
   ]
  },
  {
   "cell_type": "code",
   "execution_count": 21,
   "id": "liable-continuity",
   "metadata": {},
   "outputs": [],
   "source": [
    "mlflow.set_experiment(\"lab-6\")\n",
    "log_test(mnb, test[\"topics\"], predicted)"
   ]
  },
  {
   "cell_type": "code",
   "execution_count": null,
   "id": "judicial-collective",
   "metadata": {},
   "outputs": [],
   "source": []
  }
 ],
 "metadata": {
  "kernelspec": {
   "display_name": "Python 3",
   "language": "python",
   "name": "python3"
  },
  "language_info": {
   "codemirror_mode": {
    "name": "ipython",
    "version": 3
   },
   "file_extension": ".py",
   "mimetype": "text/x-python",
   "name": "python",
   "nbconvert_exporter": "python",
   "pygments_lexer": "ipython3",
   "version": "3.8.6"
  }
 },
 "nbformat": 4,
 "nbformat_minor": 5
}
